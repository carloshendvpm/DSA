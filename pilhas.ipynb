{
 "cells": [
  {
   "cell_type": "code",
   "execution_count": 1,
   "metadata": {},
   "outputs": [],
   "source": [
    "import numpy as np"
   ]
  },
  {
   "cell_type": "code",
   "execution_count": 4,
   "metadata": {},
   "outputs": [],
   "source": [
    "class Pilha:\n",
    "    def __init__(self,capacidade):\n",
    "      self.__capacidade = capacidade\n",
    "      self.__topo = -1\n",
    "      self.__valores = np.empty(self.__capacidade, dtype=int)\n",
    "    \n",
    "    def __pilha_cheia(self): ## torna o método privado\n",
    "      if self.__topo == self.__capacidade - 1:\n",
    "        return True\n",
    "      else:\n",
    "        return False\n",
    "    \n",
    "    def __pilha_vazia(self): ## o topo indica o indice do ultimo elemento \n",
    "      if self.__topo == -1:\n",
    "        return True\n",
    "      else:\n",
    "        return False\n",
    "      \n",
    "    def empilhar(self,valor):\n",
    "      if self.__pilha_cheia():\n",
    "        print('A pilha está cheia')\n",
    "      else:\n",
    "        self.__topo += 1\n",
    "        self.__valores[self.__topo] = valor\n",
    "\n",
    "    def desimpilhar(self):\n",
    "      if self.__pilha_vazia():\n",
    "        print('A pilha está vazia')\n",
    "      else:\n",
    "        self.__topo -= 1\n",
    "\n",
    "    def ver_topo(self):\n",
    "      if self.__topo != -1:\n",
    "        return self.__valores[self.__topo]"
   ]
  }
 ],
 "metadata": {
  "kernelspec": {
   "display_name": "Python 3",
   "language": "python",
   "name": "python3"
  },
  "language_info": {
   "codemirror_mode": {
    "name": "ipython",
    "version": 3
   },
   "file_extension": ".py",
   "mimetype": "text/x-python",
   "name": "python",
   "nbconvert_exporter": "python",
   "pygments_lexer": "ipython3",
   "version": "3.8.10"
  },
  "orig_nbformat": 4
 },
 "nbformat": 4,
 "nbformat_minor": 2
}
