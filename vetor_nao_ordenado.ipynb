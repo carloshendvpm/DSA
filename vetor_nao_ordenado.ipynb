{
 "cells": [
  {
   "cell_type": "code",
   "execution_count": 1,
   "metadata": {},
   "outputs": [],
   "source": [
    "import numpy as np"
   ]
  },
  {
   "cell_type": "code",
   "execution_count": 2,
   "metadata": {},
   "outputs": [],
   "source": [
    "class VetorNaoOrdenado:\n",
    "  def __init__(self, capacidade):\n",
    "    self.capacidade = capacidade\n",
    "    self.ultima_pos = -1\n",
    "    self.valores = np.empty(self.capacidade, dtype=int)\n",
    "\n",
    "  def imprime_valor(self):\n",
    "    if self.ultima_pos == -1:\n",
    "      print('Vetor vazio')\n",
    "    else:\n",
    "      for i in range(self.ultima_pos + 1):\n",
    "        print(i, ' - ', self.valores[i])\n",
    "  \n",
    "  def insere_valor(self, valor):\n",
    "    if self.ultima_pos == self.capacidade - 1:\n",
    "      print('Capacidade máxima atingida')\n",
    "    else:\n",
    "      self.ultima_pos += 1\n",
    "      self.valores[self.ultima_pos] = valor\n",
    "\n",
    "  def pesquisar(self, valor):\n",
    "    for i in range(self.ultima_pos + 1):\n",
    "      if valor == self.valores[i]:\n",
    "        return i\n",
    "    return -1\n",
    "\n",
    "  def excluir(self, valor):\n",
    "    posicao = self.pesquisar(valor)\n",
    "    if posicao == -1:\n",
    "      return -1\n",
    "    else:\n",
    "      for i in range(posicao, self.ultima_pos + 1): ## start/stop\n",
    "        self.valores[i] = self.valores[i + 1]\n",
    "\n",
    "      self.ultima_pos -=1"
   ]
  }
 ],
 "metadata": {
  "kernelspec": {
   "display_name": "Python 3",
   "language": "python",
   "name": "python3"
  },
  "language_info": {
   "codemirror_mode": {
    "name": "ipython",
    "version": 3
   },
   "file_extension": ".py",
   "mimetype": "text/x-python",
   "name": "python",
   "nbconvert_exporter": "python",
   "pygments_lexer": "ipython3",
   "version": "3.8.10"
  },
  "orig_nbformat": 4
 },
 "nbformat": 4,
 "nbformat_minor": 2
}
