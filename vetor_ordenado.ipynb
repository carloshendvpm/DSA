{
 "cells": [
  {
   "cell_type": "code",
   "execution_count": 1,
   "metadata": {},
   "outputs": [],
   "source": [
    "import numpy as np"
   ]
  },
  {
   "cell_type": "code",
   "execution_count": null,
   "metadata": {},
   "outputs": [],
   "source": [
    "class VetorOrdenado:\n",
    "  \n",
    "  def __init__(self, capacidade):\n",
    "    self.capacidade = capacidade\n",
    "    self.ultima_pos = -1\n",
    "    self.valores = np.empty(self.capacidade, dtype=int)\n",
    "\n",
    "  def imprime(self):\n",
    "    if self.ultima_pos == -1:\n",
    "      print('O vetor está fazio')\n",
    "    else:\n",
    "      for i in range(self.ultima_pos + 1):\n",
    "        print(i, ' - ', self.valores[i])\n",
    "\n",
    "  def insere(self, valor):\n",
    "    if self.ultima_pos == self.capacidade - 1: ## Se a última posição do vetor for igual a capacidade - 1 // posição começa em 0 e vai até capacidade - 1\n",
    "      print('O vetor atingiu a capacidade máxima')\n",
    "      return\n",
    "\n",
    "    posicao = 0\n",
    "    for i in range(self.ultima_pos + 1):\n",
    "      posicao = i\n",
    "      if self.valores[i] > valor: ## [1, 2, 3, 5, 7] - quero inserir 4\n",
    "        break                     ##  0  1  2 '3' 4     \n",
    "      if i == self.ultima_pos:\n",
    "        posicao = i + 1\n",
    "    x = self.ultima_pos\n",
    "\n",
    "    while x >= posicao:\n",
    "      self.valores[x + 1] = self.valores[x]\n",
    "      x-= 1\n",
    "\n",
    "    self.valores[posicao] = valor\n",
    "    self.ultima_pos += 1\n",
    "\n",
    "\n",
    "  def pesquisa_binaria(self, valor):\n",
    "    for i in range(self.ultima_pos + 1):\n",
    "      if self.valores[i] > valor:\n",
    "        return - 1\n",
    "      if self.valores[i] == valor:\n",
    "        return i\n",
    "      if i == self.ultima_pos:\n",
    "        return -1\n",
    "  def excluir(self, valor):\n",
    "    posicao = self.pesquisar(valor)\n",
    "    if posicao == -1:\n",
    "      return -1\n",
    "    else:\n",
    "      for i in range(posicao, self.ultima_pos + 1): ## start/stop\n",
    "        self.valores[i] = self.valores[i + 1]\n",
    "\n",
    "      self.ultima_pos -=1"
   ]
  }
 ],
 "metadata": {
  "kernelspec": {
   "display_name": "Python 3",
   "language": "python",
   "name": "python3"
  },
  "language_info": {
   "codemirror_mode": {
    "name": "ipython",
    "version": 3
   },
   "file_extension": ".py",
   "mimetype": "text/x-python",
   "name": "python",
   "nbconvert_exporter": "python",
   "pygments_lexer": "ipython3",
   "version": "3.8.10"
  },
  "orig_nbformat": 4
 },
 "nbformat": 4,
 "nbformat_minor": 2
}
